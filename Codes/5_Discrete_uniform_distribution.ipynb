{
 "cells": [
  {
   "cell_type": "code",
   "execution_count": 37,
   "metadata": {},
   "outputs": [],
   "source": [
    "# from scipy.stats import lognorm \n",
    "\n",
    "%matplotlib inline\n",
    "\n",
    "import scipy.stats as st\n",
    "import numpy\n",
    "import math\n",
    "import scipy\n",
    "\n",
    "\n",
    "def my_discrete_uniform_function(x,a,b):\n",
    "    if type(x) == int:\n",
    "        if x>=a and x<=b:\n",
    "            return 1/(b-a+1)\n",
    "        else:\n",
    "            return 0\n",
    "        \n",
    "    else:\n",
    "        y_values=[]\n",
    "        for x_values in x:\n",
    "            if x_values>=a and x_values<=b:\n",
    "                y_values.append(1/(b-a+1))\n",
    "            else:\n",
    "                y_values.append(0)\n",
    "                \n",
    "        return y_values"
   ]
  },
  {
   "cell_type": "code",
   "execution_count": 38,
   "metadata": {},
   "outputs": [],
   "source": [
    "import numpy as np\n",
    "\n",
    "#funtion\n",
    "def random_custDist(x0,x1,custDist,a,b,size=None, nControl=10**7):\n",
    "    samples=[]\n",
    "    nLoop=0\n",
    "    while len(samples)<size and nLoop<nControl:\n",
    "        x=np.random.randint(low=x0,high=x1)\n",
    "        prop=custDist(x,a,b)\n",
    "        assert prop>=0 and prop<=1 , str(prop)+\" \"+str(x)\n",
    "            \n",
    "        if np.random.uniform(low=0,high=1) <=prop:\n",
    "            samples += [x]\n",
    "        nLoop+=1\n",
    "    return np.sort(samples)"
   ]
  },
  {
   "cell_type": "code",
   "execution_count": 39,
   "metadata": {},
   "outputs": [
    {
     "name": "stdout",
     "output_type": "stream",
     "text": [
      "Theoretical Mean: 4.5\n",
      "Theoretical Variance: 1.25\n"
     ]
    },
    {
     "data": {
      "image/png": "[encoded data removed]",
      "text/plain": [
       "<Figure size 432x288 with 1 Axes>"
      ]
     },
     "metadata": {
      "needs_background": "light"
     },
     "output_type": "display_data"
    }
   ],
   "source": [
    "a=3\n",
    "b=6\n",
    "\n",
    "x_values_1 = np.arange (0, 10, 1) \n",
    "\n",
    "discrete_values_1 = my_discrete_uniform_function(x_values_1,a,b) \n",
    "\n",
    "print(\"Theoretical Mean:\",(a+b)/2)\n",
    "print(\"Theoretical Variance:\",(((b-a+1)**2)-1)/12 )\n",
    "\n",
    "from matplotlib import pyplot as plt\n",
    "\n",
    "plt.plot(x_values_1,discrete_values_1,marker='o', color='b',linestyle='None')\n",
    "\n",
    "plt.title( \"a=3 ,b=6 \",fontsize=20)\n",
    "plt.savefig(\"./discrete_uniform/dist_1.png\")"
   ]
  },
  {
   "cell_type": "code",
   "execution_count": 40,
   "metadata": {},
   "outputs": [
    {
     "name": "stdout",
     "output_type": "stream",
     "text": [
      "mean 4.4881\n",
      "variance 1.25445839\n"
     ]
    },
    {
     "data": {
      "image/png": "[encoded data removed]",
      "text/plain": [
       "<Figure size 360x360 with 1 Axes>"
      ]
     },
     "metadata": {
      "needs_background": "light"
     },
     "output_type": "display_data"
    }
   ],
   "source": [
    "sample_1 = random_custDist(0,10,my_discrete_uniform_function,a,b,size=10000, nControl=10**7)\n",
    "\n",
    "print(\"mean\",np.mean(sample_1))\n",
    "print(\"variance\",np.var(sample_1))\n",
    "\n",
    "import seaborn as sns\n",
    "sns.displot(sample_1)\n",
    "plt.title(\"a=3, b=6\",fontsize=20)\n",
    "plt.xlim(0,10)\n",
    "plt.savefig(\"./discrete_uniform/dist_sample_1.png\")\n"
   ]
  },
  {
   "cell_type": "code",
   "execution_count": 43,
   "metadata": {},
   "outputs": [
    {
     "name": "stdout",
     "output_type": "stream",
     "text": [
      "Theoretical Mean: 7.5\n",
      "Theoretical Variance: 2.9166666666666665\n"
     ]
    },
    {
     "data": {
      "image/png": "[encoded data removed]",
      "text/plain": [
       "<Figure size 432x288 with 1 Axes>"
      ]
     },
     "metadata": {
      "needs_background": "light"
     },
     "output_type": "display_data"
    }
   ],
   "source": [
    "a=5\n",
    "b=10\n",
    "\n",
    "x_values_2 = np.arange (0, 15, 1) \n",
    "\n",
    "discrete_values_2 = my_discrete_uniform_function(x_values_2,a,b) \n",
    "\n",
    "print(\"Theoretical Mean:\",(a+b)/2)\n",
    "print(\"Theoretical Variance:\",(((b-a+1)**2)-1)/12 )\n",
    "\n",
    "from matplotlib import pyplot as plt\n",
    "\n",
    "plt.plot(x_values_2,discrete_values_2,marker='o', color='b',linestyle='None')\n",
    "\n",
    "plt.title( \"a=5 ,b=10 \",fontsize=20)\n",
    "plt.savefig(\"./discrete_uniform/dist_2.png\")"
   ]
  },
  {
   "cell_type": "code",
   "execution_count": 44,
   "metadata": {},
   "outputs": [
    {
     "name": "stdout",
     "output_type": "stream",
     "text": [
      "mean 7.4902\n",
      "variance 2.9329039599999995\n"
     ]
    },
    {
     "data": {
      "image/png": "[encoded data removed]",
      "text/plain": [
       "<Figure size 360x360 with 1 Axes>"
      ]
     },
     "metadata": {
      "needs_background": "light"
     },
     "output_type": "display_data"
    }
   ],
   "source": [
    "sample_2 = random_custDist(0,15,my_discrete_uniform_function,a,b,size=10000, nControl=10**7)\n",
    "\n",
    "print(\"mean\",np.mean(sample_2))\n",
    "print(\"variance\",np.var(sample_2))\n",
    "\n",
    "import seaborn as sns\n",
    "sns.displot(sample_2)\n",
    "plt.title(\"a=5, b=10\",fontsize=20)\n",
    "plt.xlim(0,15)\n",
    "plt.savefig(\"./discrete_uniform/dist_sample_2.png\")"
   ]
  },
  {
   "cell_type": "code",
   "execution_count": 46,
   "metadata": {},
   "outputs": [
    {
     "name": "stdout",
     "output_type": "stream",
     "text": [
      "Theoretical Mean: 5.5\n",
      "Theoretical Variance: 0.25\n"
     ]
    },
    {
     "data": {
      "image/png": "[encoded data removed]",
      "text/plain": [
       "<Figure size 432x288 with 1 Axes>"
      ]
     },
     "metadata": {
      "needs_background": "light"
     },
     "output_type": "display_data"
    }
   ],
   "source": [
    "a=5\n",
    "b=6\n",
    "\n",
    "x_values_3 = np.arange (2, 10, 1) \n",
    "\n",
    "discrete_values_3 = my_discrete_uniform_function(x_values_3,a,b) \n",
    "\n",
    "print(\"Theoretical Mean:\",(a+b)/2)\n",
    "print(\"Theoretical Variance:\",(((b-a+1)**2)-1)/12 )\n",
    "\n",
    "from matplotlib import pyplot as plt\n",
    "\n",
    "plt.plot(x_values_3,discrete_values_3,marker='o', color='b',linestyle='None')\n",
    "\n",
    "plt.title( \"a=5 ,b=6 \",fontsize=20)\n",
    "plt.savefig(\"./discrete_uniform/dist_3.png\")"
   ]
  },
  {
   "cell_type": "code",
   "execution_count": 47,
   "metadata": {},
   "outputs": [
    {
     "name": "stdout",
     "output_type": "stream",
     "text": [
      "mean 5.5066\n",
      "variance 0.24995644000000003\n"
     ]
    },
    {
     "data": {
      "image/png": "[encoded data removed]",
      "text/plain": [
       "<Figure size 360x360 with 1 Axes>"
      ]
     },
     "metadata": {
      "needs_background": "light"
     },
     "output_type": "display_data"
    }
   ],
   "source": [
    "sample_3 = random_custDist(2,8,my_discrete_uniform_function,a,b,size=10000, nControl=10**7)\n",
    "\n",
    "print(\"mean\",np.mean(sample_3))\n",
    "print(\"variance\",np.var(sample_3))\n",
    "\n",
    "import seaborn as sns\n",
    "sns.displot(sample_3)\n",
    "plt.title(\"a=5, b=6\",fontsize=20)\n",
    "plt.xlim(2,8)\n",
    "plt.savefig(\"./discrete_uniform/dist_sample_3.png\")"
   ]
  },
  {
   "cell_type": "code",
   "execution_count": 48,
   "metadata": {},
   "outputs": [],
   "source": [
    "# Here Let the shape paramaters be alpha=0.5 and beta =0.5\n",
    "\n",
    "a=3\n",
    "b=6\n",
    "\n",
    "\n",
    "sample_means=[]\n",
    "\n",
    "n=40\n",
    "\n",
    "for i in range(0,1000):\n",
    "    sample = random_custDist(0,10,my_discrete_uniform_function,a,b,size=40, nControl=10**7)\n",
    "    \n",
    "    sample_mean = np.mean(sample)\n",
    "    \n",
    "    sample_means.append(sample_mean)\n",
    "    "
   ]
  },
  {
   "cell_type": "code",
   "execution_count": 49,
   "metadata": {},
   "outputs": [
    {
     "name": "stdout",
     "output_type": "stream",
     "text": [
      "mean 4.5024750000000004\n",
      "variance 0.029903249375000003\n"
     ]
    },
    {
     "data": {
      "image/png": "[encoded data removed]",
      "text/plain": [
       "<Figure size 360x360 with 1 Axes>"
      ]
     },
     "metadata": {
      "needs_background": "light"
     },
     "output_type": "display_data"
    }
   ],
   "source": [
    "sns.displot(sample_means,kde=\"true\",color=\"g\")\n",
    "\n",
    "print(\"mean\",np.mean(sample_means))\n",
    "print(\"variance\",np.var(sample_means))\n",
    "plt.title(\"a = 3 , b=6 \",fontsize=20)\n",
    "plt.savefig(\"./discrete_uniform/clt.png\")"
   ]
  },
  {
   "cell_type": "code",
   "execution_count": 51,
   "metadata": {},
   "outputs": [
    {
     "name": "stdout",
     "output_type": "stream",
     "text": [
      "expected mean 4.5 ........................ mean 4.5024750000000004\n",
      "expected variance 0.03125 ........................ variance 0.029903249375000003\n"
     ]
    }
   ],
   "source": [
    "print(\"expected mean\",(a+b)/2,\"........................\",\"mean\",np.mean(sample_means))\n",
    "print(\"expected variance\",(((b-a+1)**2)-1)/(12*n),\"........................\",\"variance\",np.var(sample_means))"
   ]
  },
  {
   "cell_type": "code",
   "execution_count": null,
   "metadata": {},
   "outputs": [],
   "source": []
  }
 ],
 "metadata": {
  "kernelspec": {
   "display_name": "Python 3",
   "language": "python",
   "name": "python3"
  },
  "language_info": {
   "codemirror_mode": {
    "name": "ipython",
    "version": 3
   },
   "file_extension": ".py",
   "mimetype": "text/x-python",
   "name": "python",
   "nbconvert_exporter": "python",
   "pygments_lexer": "ipython3",
   "version": "3.6.12"
  }
 },
 "nbformat": 4,
 "nbformat_minor": 2
}
